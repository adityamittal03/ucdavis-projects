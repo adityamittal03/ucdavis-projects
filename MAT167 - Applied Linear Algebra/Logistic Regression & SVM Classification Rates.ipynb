{
 "cells": [
  {
   "cell_type": "code",
   "execution_count": 1,
   "id": "2c85ce7b",
   "metadata": {},
   "outputs": [],
   "source": [
    "### Comparison of Other Methods"
   ]
  },
  {
   "cell_type": "code",
   "execution_count": 2,
   "id": "190a0824",
   "metadata": {},
   "outputs": [],
   "source": [
    "# load necessary modules\n",
    "from scipy import io \n",
    "import numpy as np\n",
    "import matplotlib.pyplot as plt\n",
    "from scipy.sparse.linalg import svds\n",
    "import pandas as pd\n",
    "from sklearn.model_selection import train_test_split\n",
    "from sklearn.linear_model import LogisticRegression\n",
    "from sklearn.metrics import accuracy_score, classification_report, confusion_matrix\n",
    "from sklearn.neighbors import KNeighborsClassifier\n",
    "from sklearn.svm import SVC"
   ]
  },
  {
   "cell_type": "code",
   "execution_count": 3,
   "id": "d10381cd",
   "metadata": {},
   "outputs": [],
   "source": [
    "# load datasets and matrices from usps.mat\n",
    "data = io.loadmat('usps.mat')\n",
    "train_patterns = data['train_patterns']\n",
    "test_patterns = data['test_patterns']\n",
    "train_labels = data['train_labels']\n",
    "test_labels = data['test_labels']"
   ]
  },
  {
   "cell_type": "code",
   "execution_count": 4,
   "id": "f8cb18d5",
   "metadata": {},
   "outputs": [
    {
     "name": "stdout",
     "output_type": "stream",
     "text": [
      "(256, 4649)\n",
      "(256, 4649)\n",
      "(10, 4649)\n",
      "(10, 4649)\n"
     ]
    }
   ],
   "source": [
    "# check shape of loaded matrices\n",
    "print(train_patterns.shape)\n",
    "print(test_patterns.shape)\n",
    "print(train_labels.shape)\n",
    "print(test_labels.shape) # they look as outlined"
   ]
  },
  {
   "cell_type": "code",
   "execution_count": 5,
   "id": "75ff9698",
   "metadata": {},
   "outputs": [],
   "source": [
    "# data preparation\n",
    "y_train = np.argmax(train_labels, axis=0) # index values corresponding to '1' to get true labels\n",
    "X_train = pd.DataFrame(train_patterns.T) # transpose to convert each row into a single digit entry\n",
    "y_train = pd.DataFrame(y_train) \n",
    "\n",
    "y_test = np.argmax(test_labels, axis=0) # same for test data\n",
    "X_test = pd.DataFrame(test_patterns.T)\n",
    "y_test = pd.DataFrame(y_test)"
   ]
  },
  {
   "cell_type": "code",
   "execution_count": 6,
   "id": "10407418",
   "metadata": {},
   "outputs": [],
   "source": [
    "### Logistic Regression"
   ]
  },
  {
   "cell_type": "code",
   "execution_count": 7,
   "id": "e1860157",
   "metadata": {},
   "outputs": [
    {
     "name": "stderr",
     "output_type": "stream",
     "text": [
      "/Users/adityamittal/anaconda3/lib/python3.11/site-packages/sklearn/utils/validation.py:1184: DataConversionWarning: A column-vector y was passed when a 1d array was expected. Please change the shape of y to (n_samples, ), for example using ravel().\n",
      "  y = column_or_1d(y, warn=True)\n",
      "/Users/adityamittal/anaconda3/lib/python3.11/site-packages/sklearn/linear_model/_logistic.py:460: ConvergenceWarning: lbfgs failed to converge (status=1):\n",
      "STOP: TOTAL NO. of ITERATIONS REACHED LIMIT.\n",
      "\n",
      "Increase the number of iterations (max_iter) or scale the data as shown in:\n",
      "    https://scikit-learn.org/stable/modules/preprocessing.html\n",
      "Please also refer to the documentation for alternative solver options:\n",
      "    https://scikit-learn.org/stable/modules/linear_model.html#logistic-regression\n",
      "  n_iter_i = _check_optimize_result(\n"
     ]
    }
   ],
   "source": [
    "model = LogisticRegression() # create a logistic regression model\n",
    "model.fit(X_train, y_train)  # fit the model on the training data\n",
    "y_pred = model.predict(X_test) # make predictions using testing data\n",
    "accuracy = accuracy_score(y_test, y_pred) # get accuracy score\n",
    "conf_matrix = confusion_matrix(y_test, y_pred) # get confusion matrix "
   ]
  },
  {
   "cell_type": "code",
   "execution_count": 8,
   "id": "69b63920",
   "metadata": {},
   "outputs": [
    {
     "name": "stdout",
     "output_type": "stream",
     "text": [
      "0.9425682942568294\n"
     ]
    }
   ],
   "source": [
    "print(accuracy) # print "
   ]
  },
  {
   "cell_type": "code",
   "execution_count": 9,
   "id": "b7e8c732",
   "metadata": {},
   "outputs": [
    {
     "name": "stdout",
     "output_type": "stream",
     "text": [
      "[[757   1   6   3   3   7   1   0   7   1]\n",
      " [  0 641   0   1   0   0   3   0   2   0]\n",
      " [  2   1 415  12  11   3   2   3   4   1]\n",
      " [  5   2   9 378   2   9   0   5   8   0]\n",
      " [  4   3   8   0 410   3   5   1   2   7]\n",
      " [  1   1   2   9   4 319   9   0   7   3]\n",
      " [  2   1   3   0   3   3 399   0   3   0]\n",
      " [  0   0   0   1   5   0   0 386   1   9]\n",
      " [  4   1  10   5   4   3   2   2 300   0]\n",
      " [  0   2   1   1   6   1   0  10   1 377]]\n"
     ]
    }
   ],
   "source": [
    "print(conf_matrix) # print"
   ]
  },
  {
   "cell_type": "code",
   "execution_count": 10,
   "id": "878c5bce",
   "metadata": {},
   "outputs": [
    {
     "name": "stderr",
     "output_type": "stream",
     "text": [
      "/Users/adityamittal/anaconda3/lib/python3.11/site-packages/sklearn/utils/validation.py:1184: DataConversionWarning: A column-vector y was passed when a 1d array was expected. Please change the shape of y to (n_samples, ), for example using ravel().\n",
      "  y = column_or_1d(y, warn=True)\n"
     ]
    }
   ],
   "source": [
    "### Support Vector Machines\n",
    "svm_model = SVC(kernel='linear') # using linear kernel for SVM (can use others such as polynomial as well)\n",
    "svm_model.fit(X_train, y_train) # fit the model on the training data\n",
    "y_pred = svm_model.predict(X_test) # predict\n",
    "accuracy = accuracy_score(y_test, y_pred) # accuracy rates\n",
    "conf_matrix = confusion_matrix(y_test, y_pred) # confusion matrix "
   ]
  },
  {
   "cell_type": "code",
   "execution_count": 11,
   "id": "03a325c2",
   "metadata": {},
   "outputs": [
    {
     "name": "stdout",
     "output_type": "stream",
     "text": [
      "0.9518175951817596\n"
     ]
    }
   ],
   "source": [
    "print(accuracy)"
   ]
  },
  {
   "cell_type": "code",
   "execution_count": 12,
   "id": "7bfa03ac",
   "metadata": {},
   "outputs": [
    {
     "name": "stdout",
     "output_type": "stream",
     "text": [
      "[[766   0   5   2   3   5   2   1   2   0]\n",
      " [  0 643   0   1   0   0   2   0   1   0]\n",
      " [  3   1 429   6   7   4   0   1   2   1]\n",
      " [  3   0  15 380   2  12   0   0   5   1]\n",
      " [  3   3   9   0 418   3   0   3   1   3]\n",
      " [  3   0   3  11   3 328   5   0   2   0]\n",
      " [  5   0   3   0   2   5 399   0   0   0]\n",
      " [  1   1   1   0   6   1   0 383   2   7]\n",
      " [  5   1   6   7   3   1   1   2 305   0]\n",
      " [  0   0   5   2   4   2   0  12   0 374]]\n"
     ]
    }
   ],
   "source": [
    "print(conf_matrix)"
   ]
  }
 ],
 "metadata": {
  "kernelspec": {
   "display_name": "Python 3 (ipykernel)",
   "language": "python",
   "name": "python3"
  },
  "language_info": {
   "codemirror_mode": {
    "name": "ipython",
    "version": 3
   },
   "file_extension": ".py",
   "mimetype": "text/x-python",
   "name": "python",
   "nbconvert_exporter": "python",
   "pygments_lexer": "ipython3",
   "version": "3.11.4"
  }
 },
 "nbformat": 4,
 "nbformat_minor": 5
}
